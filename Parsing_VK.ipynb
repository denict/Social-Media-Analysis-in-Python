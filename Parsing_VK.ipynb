{
  "cells": [
    {
      "cell_type": "code",
      "source": [
        "!pip install vk_api > None"
      ],
      "metadata": {
        "id": "yuIJQHXc9ThU"
      },
      "id": "yuIJQHXc9ThU",
      "execution_count": null,
      "outputs": []
    },
    {
      "cell_type": "code",
      "execution_count": null,
      "id": "2e023e69",
      "metadata": {
        "id": "2e023e69"
      },
      "outputs": [],
      "source": [
        "from vk_api import VkApi\n",
        "from vk_api.utils import get_random_id\n",
        "import requests\n",
        "import json\n",
        "import pandas as pd\n",
        "from tqdm import trange\n",
        "import time\n",
        "import numpy as np\n",
        "import requests\n",
        "import warnings\n",
        "#warnings.simplefilter(\"ignore\")"
      ]
    },
    {
      "cell_type": "code",
      "source": [
        "from google.colab import drive\n",
        "drive.mount('/content/drive')"
      ],
      "metadata": {
        "colab": {
          "base_uri": "https://localhost:8080/"
        },
        "id": "Mtaq_Va3ExI3",
        "outputId": "2843e01e-b5b0-4905-d950-7f6bb50cc21c"
      },
      "id": "Mtaq_Va3ExI3",
      "execution_count": null,
      "outputs": [
        {
          "output_type": "stream",
          "name": "stdout",
          "text": [
            "Mounted at /content/drive\n"
          ]
        }
      ]
    },
    {
      "cell_type": "code",
      "execution_count": null,
      "id": "ddb6ea1d",
      "metadata": {
        "id": "ddb6ea1d"
      },
      "outputs": [],
      "source": [
        "#вставить ваш ключ доступа\n",
        "VK_TOKEN = ''"
      ]
    },
    {
      "cell_type": "markdown",
      "source": [
        "Функция сбора данных поста вк, чтобы проверить работу вк api"
      ],
      "metadata": {
        "id": "6wDSuABz-Tf-"
      },
      "id": "6wDSuABz-Tf-"
    },
    {
      "cell_type": "code",
      "execution_count": null,
      "id": "4b1cdf1d",
      "metadata": {
        "colab": {
          "base_uri": "https://localhost:8080/"
        },
        "id": "4b1cdf1d",
        "outputId": "dded4673-d0ed-47ef-f7d0-3b1c7681f9b1"
      },
      "outputs": [
        {
          "output_type": "stream",
          "name": "stdout",
          "text": [
            "{'response': {'count': 243835, 'items': [{'inner_type': 'wall_wallpost', 'donut': {'is_donut': False}, 'comments': {'can_post': 1, 'can_view': 1, 'count': 6, 'groups_can_post': True}, 'marked_as_ads': 0, 'hash': 'KAwAIC5-ksrXJaVqrg', 'type': 'post', 'push_subscription': {'is_subscribed': False}, 'attachments': [{'type': 'photo', 'photo': {'album_id': -7, 'date': 1740081386, 'id': 459710959, 'owner_id': -15755094, 'access_key': 'ba7e02ff72b5654193', 'post_id': 47349788, 'sizes': [{'height': 71, 'type': 's', 'width': 75, 'url': 'https://sun1-14.userapi.com/s/v1/ig2/h-z1FUvX4M7HOz6AXYg7CpqnFeRQoUBZNp_kgHbGtCF0qr7qN-UX1r3EOQPkarUp0Y7abj-gVypjSRJMOPNH-9HS.jpg?quality=95&as=32x30,48x46,72x69,108x103,160x152,240x228,360x343,480x457,540x514,640x609,720x685,1080x1028,1100x1047&from=bu&cs=75x71'}, {'height': 124, 'type': 'm', 'width': 130, 'url': 'https://sun1-14.userapi.com/s/v1/ig2/h-z1FUvX4M7HOz6AXYg7CpqnFeRQoUBZNp_kgHbGtCF0qr7qN-UX1r3EOQPkarUp0Y7abj-gVypjSRJMOPNH-9HS.jpg?quality=95&as=32x30,48x46,72x69,108x103,160x152,240x228,360x343,480x457,540x514,640x609,720x685,1080x1028,1100x1047&from=bu&cs=130x124'}, {'height': 575, 'type': 'x', 'width': 604, 'url': 'https://sun1-14.userapi.com/s/v1/ig2/h-z1FUvX4M7HOz6AXYg7CpqnFeRQoUBZNp_kgHbGtCF0qr7qN-UX1r3EOQPkarUp0Y7abj-gVypjSRJMOPNH-9HS.jpg?quality=95&as=32x30,48x46,72x69,108x103,160x152,240x228,360x343,480x457,540x514,640x609,720x685,1080x1028,1100x1047&from=bu&cs=604x575'}, {'height': 768, 'type': 'y', 'width': 807, 'url': 'https://sun1-14.userapi.com/s/v1/ig2/h-z1FUvX4M7HOz6AXYg7CpqnFeRQoUBZNp_kgHbGtCF0qr7qN-UX1r3EOQPkarUp0Y7abj-gVypjSRJMOPNH-9HS.jpg?quality=95&as=32x30,48x46,72x69,108x103,160x152,240x228,360x343,480x457,540x514,640x609,720x685,1080x1028,1100x1047&from=bu&cs=807x768'}, {'height': 1047, 'type': 'z', 'width': 1100, 'url': 'https://sun1-14.userapi.com/s/v1/ig2/h-z1FUvX4M7HOz6AXYg7CpqnFeRQoUBZNp_kgHbGtCF0qr7qN-UX1r3EOQPkarUp0Y7abj-gVypjSRJMOPNH-9HS.jpg?quality=95&as=32x30,48x46,72x69,108x103,160x152,240x228,360x343,480x457,540x514,640x609,720x685,1080x1028,1100x1047&from=bu&cs=1100x1047'}, {'height': 124, 'type': 'o', 'width': 130, 'url': 'https://sun1-14.userapi.com/s/v1/ig2/h-z1FUvX4M7HOz6AXYg7CpqnFeRQoUBZNp_kgHbGtCF0qr7qN-UX1r3EOQPkarUp0Y7abj-gVypjSRJMOPNH-9HS.jpg?quality=95&as=32x30,48x46,72x69,108x103,160x152,240x228,360x343,480x457,540x514,640x609,720x685,1080x1028,1100x1047&from=bu&cs=130x124'}, {'height': 190, 'type': 'p', 'width': 200, 'url': 'https://sun1-14.userapi.com/s/v1/ig2/h-z1FUvX4M7HOz6AXYg7CpqnFeRQoUBZNp_kgHbGtCF0qr7qN-UX1r3EOQPkarUp0Y7abj-gVypjSRJMOPNH-9HS.jpg?quality=95&as=32x30,48x46,72x69,108x103,160x152,240x228,360x343,480x457,540x514,640x609,720x685,1080x1028,1100x1047&from=bu&cs=200x190'}, {'height': 305, 'type': 'q', 'width': 320, 'url': 'https://sun1-14.userapi.com/s/v1/ig2/h-z1FUvX4M7HOz6AXYg7CpqnFeRQoUBZNp_kgHbGtCF0qr7qN-UX1r3EOQPkarUp0Y7abj-gVypjSRJMOPNH-9HS.jpg?quality=95&as=32x30,48x46,72x69,108x103,160x152,240x228,360x343,480x457,540x514,640x609,720x685,1080x1028,1100x1047&from=bu&cs=320x305'}, {'height': 485, 'type': 'r', 'width': 510, 'url': 'https://sun1-14.userapi.com/s/v1/ig2/h-z1FUvX4M7HOz6AXYg7CpqnFeRQoUBZNp_kgHbGtCF0qr7qN-UX1r3EOQPkarUp0Y7abj-gVypjSRJMOPNH-9HS.jpg?quality=95&as=32x30,48x46,72x69,108x103,160x152,240x228,360x343,480x457,540x514,640x609,720x685,1080x1028,1100x1047&from=bu&cs=510x485'}], 'text': '', 'user_id': 100, 'web_view_token': 'f9dc1f046aa18742fc', 'has_tags': False, 'orig_photo': {'height': 1047, 'type': 'base', 'url': 'https://sun1-14.userapi.com/s/v1/ig2/h-z1FUvX4M7HOz6AXYg7CpqnFeRQoUBZNp_kgHbGtCF0qr7qN-UX1r3EOQPkarUp0Y7abj-gVypjSRJMOPNH-9HS.jpg?quality=95&as=32x30,48x46,72x69,108x103,160x152,240x228,360x343,480x457,540x514,640x609,720x685,1080x1028,1100x1047&from=bu', 'width': 1100}}}], 'date': 1740081386, 'from_id': -15755094, 'id': 47349788, 'likes': {'can_like': 1, 'count': 38, 'user_likes': 0, 'can_publish': 1, 'repost_disabled': False}, 'reaction_set_id': 'reactions', 'reactions': {'count': 38, 'items': [{'id': 0, 'count': 38}]}, 'owner_id': -15755094, 'post_source': {'type': 'api'}, 'post_type': 'post', 'reposts': {'count': 1, 'user_reposted': 0}, 'text': 'Встреча с российскими представителями в Саудовской Аравии была исторической, заявил советник Трампа Майк Уолтц на брифинге в Белом доме. \\n \\nЗначительно укрепить доверие в переговорах помогло освобождение Москвой Марка Фогеля. Уолтц отметил, что это стало первым шагом к началу контактов, \"движения вперед к миру\". \\n \\nПри этом он намекнул, что дальнейшие результаты по двусторонним отношениям и санкционной политике будут зависеть от прогресса в решении конфликта.', 'views': {'count': 5386}}], 'reaction_sets': [{'id': 'reactions', 'items': [{'id': 0, 'title': 'Like', 'asset': {'animation_url': 'https://vk.com/reaction/3-reactions-0?c_uniq_tag=83b2081a8e4adfc36ee536f5f1b4ad470174c89678369a4b9dc5547614a3955e', 'images': [{'url': 'https://vk.com/reaction/1-reactions-0-32?c_uniq_tag=464ba6bdc06e9f204a9b2c865a046355d835f601d8d82be4dc77e43a028741ff', 'width': 32, 'height': 32}, {'url': 'https://vk.com/reaction/1-reactions-0-48?c_uniq_tag=e6bee176471af6e4f7ca0f57ac099847d57b8101bf07944e47b42b097a6d8455', 'width': 48, 'height': 48}, {'url': 'https://vk.com/reaction/1-reactions-0-72?c_uniq_tag=d6f55fe94c0add8f817b447cbd804768752eb996c06ef222b39eb3fd35834780', 'width': 72, 'height': 72}, {'url': 'https://vk.com/reaction/1-reactions-0-96?c_uniq_tag=0a64c3d34d3a1368b05716ff24f94ff51b2257a2287957423ced36a00b020cb6', 'width': 96, 'height': 96}, {'url': 'https://vk.com/reaction/1-reactions-0-144?c_uniq_tag=47a911186fd9ce6d9aba1f9273e49ef70d1e0149e7470d1dae40941d81a1ece4', 'width': 144, 'height': 144}], 'title': {'color': {'foreground': {'light': 'FF3347', 'dark': 'FF5C5C'}, 'background': {'light': 'FFEDED', 'dark': '3E2526'}}}, 'title_color': {'light': 'FF3347', 'dark': 'FF5C5C'}}}, {'id': 1, 'title': 'Haha', 'asset': {'animation_url': 'https://vk.com/reaction/3-reactions-1?c_uniq_tag=a47193579880c0f53dd597a15d3bd57d4827820687c73d6128df2720647b42b9', 'images': [{'url': 'https://vk.com/reaction/1-reactions-1-32?c_uniq_tag=2119d7ea78675f5702dcf43035f5f7fe13d6dd0f444b3a7d1735699d659b49b7', 'width': 32, 'height': 32}, {'url': 'https://vk.com/reaction/1-reactions-1-48?c_uniq_tag=8f5eb3a1d6a6ec81aceff211782af3c9e9a5d1c837f0bfade6965a6844786f8b', 'width': 48, 'height': 48}, {'url': 'https://vk.com/reaction/1-reactions-1-72?c_uniq_tag=c852fcad6e67059878dcf1905e3e416fd89fbc61222ead100935a6fcc1dab4c9', 'width': 72, 'height': 72}, {'url': 'https://vk.com/reaction/1-reactions-1-96?c_uniq_tag=647ccf722698732a8b13033eadd1f02c5c917b0bdc3f9fb16d6cd0ade8706c99', 'width': 96, 'height': 96}, {'url': 'https://vk.com/reaction/1-reactions-1-144?c_uniq_tag=68c571ccb2f08b9e0404e5307b41a48a057454b44375480a7a89f1dc8fb8b521', 'width': 144, 'height': 144}], 'title': {'color': {'foreground': {'light': 'FF8000', 'dark': 'FFC233'}, 'background': {'light': 'FFF2D6', 'dark': '352E23'}}}, 'title_color': {'light': 'FF8000', 'dark': 'FFC233'}}}, {'id': 2, 'title': 'Wow!', 'asset': {'animation_url': 'https://vk.com/reaction/3-reactions-2?c_uniq_tag=b946fcbe262642bc920331746b6eccd9f175bb17d8ef37e54d232fa35ca2c750', 'images': [{'url': 'https://vk.com/reaction/1-reactions-2-32?c_uniq_tag=e919477a3e650ebae5d810b30dcc7529a52b072f2470327f95220b778abfb449', 'width': 32, 'height': 32}, {'url': 'https://vk.com/reaction/1-reactions-2-48?c_uniq_tag=2a6544dce8827d216db7ea91eafc726cd3a823f5d465ba00216901a6de2801ad', 'width': 48, 'height': 48}, {'url': 'https://vk.com/reaction/1-reactions-2-72?c_uniq_tag=5a0663f3d38dd6fbcf3e4973610d50641420631c9df30b6cf80eee0dd5c5efee', 'width': 72, 'height': 72}, {'url': 'https://vk.com/reaction/1-reactions-2-96?c_uniq_tag=51275507a335aeafd7c43735d92d11a6b3acf2bb5595273a44a4f844c055b2ce', 'width': 96, 'height': 96}, {'url': 'https://vk.com/reaction/1-reactions-2-144?c_uniq_tag=223a080cabb1e69212b9b1cdb455dcfb8bcbbdc40d93ae339717ecd32ea95f4c', 'width': 144, 'height': 144}], 'title': {'color': {'foreground': {'light': 'FF8000', 'dark': 'FFC233'}, 'background': {'light': 'FFF2D6', 'dark': '352E23'}}}, 'title_color': {'light': 'FF8000', 'dark': 'FFC233'}}}, {'id': 3, 'title': 'Love', 'asset': {'animation_url': 'https://vk.com/reaction/3-reactions-3?c_uniq_tag=c6ed3add99e841dccda5479c8e21779954e61e0fba15f94a2ae16706df492123', 'images': [{'url': 'https://vk.com/reaction/1-reactions-3-32?c_uniq_tag=a95fe4eb836477892e54dcd8f464598e49a611249ec93d5eb7d7a1401cb77cff', 'width': 32, 'height': 32}, {'url': 'https://vk.com/reaction/1-reactions-3-48?c_uniq_tag=eda1a2c18d733b356babdeed5f52cdcc64dd59f1f69776a133fc34a5627eecee', 'width': 48, 'height': 48}, {'url': 'https://vk.com/reaction/1-reactions-3-72?c_uniq_tag=be09c5080773a9ba78984406588c7371e48073e80b842eb7c9a817f7b435379b', 'width': 72, 'height': 72}, {'url': 'https://vk.com/reaction/1-reactions-3-96?c_uniq_tag=b08f5ff31b4bd18e465f14262708e4aac56d34f343b8d355171df7d73bb34497', 'width': 96, 'height': 96}, {'url': 'https://vk.com/reaction/1-reactions-3-144?c_uniq_tag=484984c408a4b1f82d51229ce061ccbc5ad2efffbf2b684636ecfaa60f567f89', 'width': 144, 'height': 144}], 'title': {'color': {'foreground': {'light': 'FF8000', 'dark': 'FFC233'}, 'background': {'light': 'FFF2D6', 'dark': '352E23'}}}, 'title_color': {'light': 'FF8000', 'dark': 'FFC233'}}}, {'id': 5, 'title': 'Sad', 'asset': {'animation_url': 'https://vk.com/reaction/3-reactions-5?c_uniq_tag=c61122c8c334154cb10ccf0e0687057bf1f0f40c2817198b2e1150df534c22c4', 'images': [{'url': 'https://vk.com/reaction/1-reactions-5-32?c_uniq_tag=a07ac888553814f1cbc8c9342b636bf30ca6d80d14e7e38170ea02dad0bfafbf', 'width': 32, 'height': 32}, {'url': 'https://vk.com/reaction/1-reactions-5-48?c_uniq_tag=31bcb230babad96120a62589c52af22811aaba54d4ed73a36cfd499d9d94102f', 'width': 48, 'height': 48}, {'url': 'https://vk.com/reaction/1-reactions-5-72?c_uniq_tag=a840d0eb581c133d97638ff5bf34f4b33f3fb8557b932cfe3516925b88e2f151', 'width': 72, 'height': 72}, {'url': 'https://vk.com/reaction/1-reactions-5-96?c_uniq_tag=8cff3bac94202cbb5bee1d598f113134e0038804a3837be750f28ff27d3ffb05', 'width': 96, 'height': 96}, {'url': 'https://vk.com/reaction/1-reactions-5-144?c_uniq_tag=8bf31a92656dd0c0d3482505bf1b6fb3d2493a3e4c93e0e62723aef81c7da052', 'width': 144, 'height': 144}], 'title': {'color': {'foreground': {'light': '4986CC', 'dark': '71AAEB'}, 'background': {'light': 'EDF3FA', 'dark': '27303C'}}}, 'title_color': {'light': '4986CC', 'dark': '71AAEB'}}}, {'id': 4, 'title': '&$#%!', 'asset': {'animation_url': 'https://vk.com/reaction/3-reactions-4?c_uniq_tag=063e6b2dd888bb5a9716cf6153f03bf9c0c9707713b857eed8fe1e4e09aea2b3', 'images': [{'url': 'https://vk.com/reaction/1-reactions-4-32?c_uniq_tag=ac5ab70367285c3fbbee7ba2adde88cbb65db2d35e05b09b4ae5593ee0bcc535', 'width': 32, 'height': 32}, {'url': 'https://vk.com/reaction/1-reactions-4-48?c_uniq_tag=c80e3224c299a73384c057ff065c9458dcd533d57a1458875eb98883c3a96783', 'width': 48, 'height': 48}, {'url': 'https://vk.com/reaction/1-reactions-4-72?c_uniq_tag=a0eddba1ec31f96adbb9afa2c6c14bec055b95f8d9f113bdf759fb5a9c9054f0', 'width': 72, 'height': 72}, {'url': 'https://vk.com/reaction/1-reactions-4-96?c_uniq_tag=5495709e616048fd43683ac693ebd09f3615c797af2493d0334402befded2885', 'width': 96, 'height': 96}, {'url': 'https://vk.com/reaction/1-reactions-4-144?c_uniq_tag=a79fce98e0d7769284290ab78936b3aa6d15a42caa50e6071bdeb5013d950251', 'width': 144, 'height': 144}], 'title': {'color': {'foreground': {'light': 'EF5203', 'dark': 'FA5300'}, 'background': {'light': 'FDEBE8', 'dark': '3C2421'}}}, 'title_color': {'light': 'EF5203', 'dark': 'FA5300'}}}]}]}}\n"
          ]
        }
      ],
      "source": [
        "owner_id = '-15755094', # id сообщества указывается со знаком - перед цифрами\n",
        "offset = 0, #смещение (сколько постов надо пропустить, чтобы начать сбор)\n",
        "count = 1 # сколько постов получить. максимум можно получить 100\n",
        "v = 5.199\n",
        "\n",
        "def get_wall_posts(VK_TOKEN: str, owner_id: str, offset: int, count: int, v: float) -> dict:\n",
        "    url = 'https://api.vk.com/method/wall.get' #метод wall.get позволяет получать записи со стены\n",
        "    params = {\n",
        "        'access_token': VK_TOKEN, # ваш токен\n",
        "        'owner_id': owner_id,\n",
        "        'v': v,\n",
        "        'offset': offset,\n",
        "        'count': count\n",
        "    }\n",
        "\n",
        "    response = requests.get(url, params=params)\n",
        "    return response.json()\n",
        "\n",
        "wall_posts = get_wall_posts(VK_TOKEN, owner_id, offset, count, v)\n",
        "print(wall_posts)"
      ]
    },
    {
      "cell_type": "markdown",
      "id": "c83ae0d9",
      "metadata": {
        "id": "c83ae0d9"
      },
      "source": [
        "# собираем бд из сообществ вк"
      ]
    },
    {
      "cell_type": "code",
      "execution_count": null,
      "id": "f8facf7e",
      "metadata": {
        "id": "f8facf7e"
      },
      "outputs": [],
      "source": [
        "#создаем пустой DF для сбора данных\n",
        "data_posts = pd.DataFrame(columns = ['id_group', 'id_post', 'date', 'description', 'title', 'text', 'views', 'likes', 'reposts'])"
      ]
    },
    {
      "cell_type": "code",
      "source": [
        "def get_wall_posts(VK_TOKEN: str, owner_id: str, offset: int, count: int, v: float) -> dict:\n",
        "    url = 'https://api.vk.com/method/wall.get' #метод wall.get позволяет получать записи со стены\n",
        "    params = {\n",
        "        'access_token': VK_TOKEN, # ваш токен\n",
        "        'owner_id': owner_id,\n",
        "        'v': v,\n",
        "        'offset': offset,\n",
        "        'count': count\n",
        "    }\n",
        "\n",
        "    response = requests.get(url, params=params)\n",
        "    return response.json()"
      ],
      "metadata": {
        "id": "s2EYeqTB_csG"
      },
      "id": "s2EYeqTB_csG",
      "execution_count": null,
      "outputs": []
    },
    {
      "cell_type": "code",
      "source": [
        "#заменить id сообщества на свое\n",
        "owner_id = '-15755094', # id сообщества указывается со знаком - перед цифрами\n",
        "offset = 0, #смещение (сколько постов надо пропустить, чтобы начать сбор)\n",
        "count = 100 # сколько постов получить. максимум можно получить 100\n",
        "v = 5.199\n",
        "\n",
        "wall_posts = get_wall_posts(VK_TOKEN, owner_id, offset, count, v)\n",
        "\n",
        "#получаем кол-во всех постов в сообществе\n",
        "count_posts = wall_posts['response']['count']\n",
        "print('кол-во постов сообщества - ', count_posts)"
      ],
      "metadata": {
        "colab": {
          "base_uri": "https://localhost:8080/"
        },
        "id": "uvAnRhVE-8uG",
        "outputId": "7825a2cc-b34b-44b1-d0d4-b0bcdc83deba"
      },
      "id": "uvAnRhVE-8uG",
      "execution_count": null,
      "outputs": [
        {
          "output_type": "stream",
          "name": "stdout",
          "text": [
            "кол-во постов сообщества -  243835\n"
          ]
        }
      ]
    },
    {
      "cell_type": "code",
      "source": [
        "posts_number_of_collection = count_posts #кол-во постов для сбора. Если необходимо собрать определенное значение, то заменить count_post на необходимое число (int)\n",
        "start_post = 0 #счетчик постов откуда будет отсчет сбора данных (начиная с недавних постов)\n",
        "\n",
        "#если прервалось выполнение кода, то раскоментить эти строчки и запустить заново весь код\n",
        "#start_post = 104 * 100 #значение post заменить на число из прогрессбара внизу ячейки (кол-во отобранных постов)\n",
        "#data_posts = pd.read_csv('/content/drive/MyDrive/Data/posts_ria_news.csv') #в кавычках прописать путь где лежит сохраненный частично заполненный DF. Например, '/content/drive/MyDrive/Data/posts_ria_news.csv'\n",
        "\n",
        "for offset in trange(start_post, posts_number_of_collection, 100):\n",
        "  wall_posts = get_wall_posts(VK_TOKEN, owner_id, offset, count, v) #получаем данные 100 постов\n",
        "  id_row_df = len(data_posts) #счетчик строк DF\n",
        "  for post in range(len(wall_posts['response']['items'])): #проходимся по каждому из 100 постов и вычлиняем информацию из json для записи ее в DF\n",
        "    #описание и заголовок бывают у ссылок, видео, изображениий.\n",
        "    #если что то такое есть в посте, то это будут записаны описание и заголовок, если нет, то будет пустая строка\n",
        "    description, title = '',''\n",
        "    for element in ['link', 'video', 'photo']:\n",
        "      try:\n",
        "        description = wall_posts['response']['items'][post]['attachments'][0][element]['description']\n",
        "        title = wall_posts['response']['items'][post]['attachments'][0][element]['title']\n",
        "      except:\n",
        "        continue\n",
        "    #эта конструкция нужна для тех постов времен динозавров когда еще не отображалось кол-во просмотров поста\n",
        "    try:\n",
        "      views =  int(wall_posts['response']['items'][post]['views']['count'])\n",
        "    except:\n",
        "      views = np.nan\n",
        "    #собираем список необходимой информации для записи в DF\n",
        "    list_inform = [wall_posts['response']['items'][post]['owner_id'], #id сообщества\n",
        "                   wall_posts['response']['items'][post]['id'], #id поста\n",
        "                   wall_posts['response']['items'][post]['date'], #дату поста\n",
        "                   description, #описание видео, ссылки, изображения если есть\n",
        "                   title, #заголовок видео, ссылки, изображения если есть\n",
        "                   wall_posts['response']['items'][post]['text'], #текст поста\n",
        "                   views, #кол-во просмотров поста\n",
        "                   wall_posts['response']['items'][post]['likes']['count'], #кол-во лайков\n",
        "                   wall_posts['response']['items'][post]['reposts']['count'] #кол-во репостов\n",
        "                   ]\n",
        "    #если пост есть в датафрейме (проверяем по id поста), то перезаписываем в ту же строчку. кол-во лайков могло со временем измениться\n",
        "    if wall_posts['response']['items'][post]['id'] in list(data_posts['id_post']):\n",
        "      index = data_posts[data_posts['id_post'] == wall_posts['response']['items'][post]['id']].index[0] #записываем индекс этого поста в датафрейме\n",
        "      data_posts.loc[index] = list_inform #перезаписываем строку по найденному индексу\n",
        "    else: #если поста нет в DF, то записываем его в новую строку\n",
        "      data_posts.loc[id_row_df] = list_inform\n",
        "      id_row_df += 1 #обновляем индекс строки для следующих записей в DF\n",
        "    data_posts.to_csv('/content/drive/MyDrive/Data/posts_ria_news.csv', index = False) #сохраняем DF кажду итерацию, чтобы можно было востановить сбор без потерь данных и времени"
      ],
      "metadata": {
        "colab": {
          "base_uri": "https://localhost:8080/"
        },
        "id": "BW1FJhUW_5K-",
        "outputId": "59fbdd68-a4d5-4445-f247-0c23359e483e"
      },
      "id": "BW1FJhUW_5K-",
      "execution_count": null,
      "outputs": [
        {
          "output_type": "stream",
          "name": "stderr",
          "text": [
            "  4%|▍         | 104/2439 [20:38<14:10:16, 21.85s/it]"
          ]
        }
      ]
    },
    {
      "cell_type": "code",
      "source": [],
      "metadata": {
        "id": "UQf2-FgCAUDc"
      },
      "id": "UQf2-FgCAUDc",
      "execution_count": null,
      "outputs": []
    }
  ],
  "metadata": {
    "kernelspec": {
      "display_name": "Python 3 (ipykernel)",
      "language": "python",
      "name": "python3"
    },
    "language_info": {
      "codemirror_mode": {
        "name": "ipython",
        "version": 3
      },
      "file_extension": ".py",
      "mimetype": "text/x-python",
      "name": "python",
      "nbconvert_exporter": "python",
      "pygments_lexer": "ipython3",
      "version": "3.9.18"
    },
    "colab": {
      "provenance": []
    }
  },
  "nbformat": 4,
  "nbformat_minor": 5
}